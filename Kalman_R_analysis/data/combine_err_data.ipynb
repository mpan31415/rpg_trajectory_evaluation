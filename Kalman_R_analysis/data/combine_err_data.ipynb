{
 "cells": [
  {
   "cell_type": "code",
   "execution_count": 1,
   "metadata": {},
   "outputs": [],
   "source": [
    "import os\n",
    "from pandas import read_csv, concat"
   ]
  },
  {
   "cell_type": "markdown",
   "metadata": {},
   "source": [
    "### Load Individual Dataframes"
   ]
  },
  {
   "cell_type": "code",
   "execution_count": 2,
   "metadata": {},
   "outputs": [],
   "source": [
    "def load_data(data_name: str):\n",
    "    file_path = os.getcwd() + \"\\\\\" + data_name + \"_errors.csv\"\n",
    "    data = read_csv(file_path)\n",
    "    return data\n",
    "\n",
    "kitti_df = load_data(\"kitti\")\n",
    "kitti_kf_df = load_data(\"kitti_kf\")\n",
    "malaga_df = load_data(\"malaga\")\n",
    "malaga_kf_df = load_data(\"malaga_kf\")\n",
    "parking_df = load_data(\"parking\")\n",
    "parking_kf_df = load_data(\"parking_kf\")"
   ]
  },
  {
   "cell_type": "markdown",
   "metadata": {},
   "source": [
    "### Add {KF, dataset} Columns, Combine into Single Dataframe"
   ]
  },
  {
   "cell_type": "code",
   "execution_count": 3,
   "metadata": {},
   "outputs": [],
   "source": [
    "# 1. create new dataframe for each dataset\n",
    "kitti_df[\"KF\"] = \"no\"\n",
    "kitti_kf_df[\"KF\"] = \"yes\"\n",
    "kitti_data_df = concat([kitti_df, kitti_kf_df])\n",
    "kitti_data_df.to_csv(\"kitti_all_errors.csv\", index=False)\n",
    "\n",
    "malaga_df[\"KF\"] = \"no\"\n",
    "malaga_kf_df[\"KF\"] = \"yes\"\n",
    "malaga_data_df = concat([malaga_df, malaga_kf_df])\n",
    "malaga_data_df.to_csv(\"malaga_all_errors.csv\", index=False)\n",
    "\n",
    "parking_df[\"KF\"] = \"no\"\n",
    "parking_kf_df[\"KF\"] = \"yes\"\n",
    "parking_data_df = concat([parking_df, parking_kf_df])\n",
    "parking_data_df.to_csv(\"parking_all_errors.csv\", index=False)\n",
    "\n",
    "\n",
    "# 2. create new dataframe for all datasets\n",
    "kitti_data_df[\"dataset\"] = \"kitti\"\n",
    "malaga_data_df[\"dataset\"] = \"malaga\"\n",
    "parking_data_df[\"dataset\"] = \"parking\"\n",
    "data_df = concat([kitti_data_df, malaga_data_df, parking_data_df])\n",
    "data_df.to_csv(\"all_errors.csv\", index=False)\n",
    "\n",
    "\n",
    "# 3. create 2 new dataframes for all datasets with and without KF\n",
    "data_kf_df = data_df[data_df[\"KF\"] == \"yes\"]\n",
    "data_kf_df.to_csv(\"all_errors_kf.csv\", index=False)\n",
    "\n",
    "data_no_kf_df = data_df[data_df[\"KF\"] == \"no\"]\n",
    "data_no_kf_df.to_csv(\"all_errors_no_kf.csv\", index=False)"
   ]
  }
 ],
 "metadata": {
  "kernelspec": {
   "display_name": "Python 3",
   "language": "python",
   "name": "python3"
  },
  "language_info": {
   "codemirror_mode": {
    "name": "ipython",
    "version": 3
   },
   "file_extension": ".py",
   "mimetype": "text/x-python",
   "name": "python",
   "nbconvert_exporter": "python",
   "pygments_lexer": "ipython3",
   "version": "3.10.11"
  }
 },
 "nbformat": 4,
 "nbformat_minor": 2
}
