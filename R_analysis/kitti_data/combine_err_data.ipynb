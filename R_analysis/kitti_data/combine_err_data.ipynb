{
 "cells": [
  {
   "cell_type": "code",
   "execution_count": 1,
   "metadata": {},
   "outputs": [],
   "source": [
    "import os\n",
    "from pandas import read_csv, concat"
   ]
  },
  {
   "cell_type": "markdown",
   "metadata": {},
   "source": [
    "### Load Individual Dataframes"
   ]
  },
  {
   "cell_type": "code",
   "execution_count": 2,
   "metadata": {},
   "outputs": [],
   "source": [
    "def load_data(detector_name: str):\n",
    "    file_path = os.getcwd() + \"\\\\\" + detector_name + \"_errors.csv\"\n",
    "    data = read_csv(file_path)\n",
    "    return data\n",
    "\n",
    "sift_df = load_data(\"sift\")\n",
    "harris_df = load_data(\"harris\")\n",
    "shi_tomasi_df = load_data(\"shi_tomasi\")"
   ]
  },
  {
   "cell_type": "markdown",
   "metadata": {},
   "source": [
    "### Combine into Single Dataframe"
   ]
  },
  {
   "cell_type": "code",
   "execution_count": 3,
   "metadata": {},
   "outputs": [],
   "source": [
    "sift_df.insert(1, \"detector\", \"sift\")\n",
    "harris_df.insert(1, \"detector\", \"harris\")\n",
    "shi_tomasi_df.insert(1, \"detector\", \"shi_tomasi\")\n",
    "\n",
    "data_df = concat([sift_df, harris_df, shi_tomasi_df])\n",
    "\n",
    "data_df.to_csv(\"all_errors.csv\", index=False)"
   ]
  }
 ],
 "metadata": {
  "kernelspec": {
   "display_name": "Python 3",
   "language": "python",
   "name": "python3"
  },
  "language_info": {
   "codemirror_mode": {
    "name": "ipython",
    "version": 3
   },
   "file_extension": ".py",
   "mimetype": "text/x-python",
   "name": "python",
   "nbconvert_exporter": "python",
   "pygments_lexer": "ipython3",
   "version": "3.10.11"
  }
 },
 "nbformat": 4,
 "nbformat_minor": 2
}
