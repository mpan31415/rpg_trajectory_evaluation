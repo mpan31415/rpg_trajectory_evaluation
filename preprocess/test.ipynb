{
 "cells": [
  {
   "cell_type": "code",
   "execution_count": 1,
   "metadata": {},
   "outputs": [],
   "source": [
    "import numpy as np"
   ]
  },
  {
   "cell_type": "code",
   "execution_count": 2,
   "metadata": {},
   "outputs": [],
   "source": [
    "# define the detectors\n",
    "# detectors = ['sift', 'harris', 'shi_tomasi', 'fast']\n",
    "detectors = ['sift', 'harris', 'shi_tomasi']\n",
    "# detectors = ['sift']"
   ]
  },
  {
   "cell_type": "markdown",
   "metadata": {},
   "source": [
    "### 1. KITTI"
   ]
  },
  {
   "cell_type": "code",
   "execution_count": null,
   "metadata": {},
   "outputs": [],
   "source": [
    "\n",
    "\n",
    "# recorded trajectory\n",
    "for detector in detectors:\n",
    "    kitti_raw_traj = np.loadtxt(file_path + '/raw_result_files/kitti/' + detector + '.txt', delimiter=' ')\n",
    "    print(\"[KITTI] Recorded trajectory [%s] has %d frames, %d, columns\" % (detector.upper(), kitti_raw_traj.shape[0], kitti_raw_traj.shape[1]))"
   ]
  },
  {
   "cell_type": "markdown",
   "metadata": {},
   "source": [
    "### 2. Malaga"
   ]
  },
  {
   "cell_type": "code",
   "execution_count": null,
   "metadata": {},
   "outputs": [],
   "source": [
    "\n",
    "\n",
    "# recorded trajectory\n",
    "for detector in detectors:\n",
    "    malaga_raw_traj = np.loadtxt(file_path + '/raw_result_files/malaga/' + detector + '.txt', delimiter=' ')\n",
    "    print(\"[MALAGA] Recorded trajectory [%s] has %d frames, %d columns\" % (detector.upper(), kitti_raw_traj.shape[0], kitti_raw_traj.shape[1]))"
   ]
  },
  {
   "cell_type": "markdown",
   "metadata": {},
   "source": [
    "### 3. Parking"
   ]
  },
  {
   "cell_type": "code",
   "execution_count": null,
   "metadata": {},
   "outputs": [],
   "source": [
    "\n",
    "\n",
    "# recorded trajectory\n",
    "for detector in detectors:\n",
    "    parking_raw_traj = np.loadtxt(file_path + '/raw_result_files/parking/' + detector + '.txt', delimiter=' ')\n",
    "    print(\"[Parking] Recorded trajectory [%s] has %d frames, %d columns\" % (detector.upper(), parking_raw_traj.shape[0], parking_raw_traj.shape[1]))"
   ]
  }
 ],
 "metadata": {
  "kernelspec": {
   "display_name": "Python 3",
   "language": "python",
   "name": "python3"
  },
  "language_info": {
   "codemirror_mode": {
    "name": "ipython",
    "version": 3
   },
   "file_extension": ".py",
   "mimetype": "text/x-python",
   "name": "python",
   "nbconvert_exporter": "python",
   "pygments_lexer": "ipython3",
   "version": "3.10.11"
  }
 },
 "nbformat": 4,
 "nbformat_minor": 2
}
